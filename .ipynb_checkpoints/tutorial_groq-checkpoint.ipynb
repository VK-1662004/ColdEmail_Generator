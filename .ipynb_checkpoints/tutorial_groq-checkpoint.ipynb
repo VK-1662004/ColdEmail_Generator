{
 "cells": [
  {
   "cell_type": "code",
   "execution_count": null,
   "id": "493ab88c-364f-4e15-98e2-63430079ef70",
   "metadata": {},
   "outputs": [],
   "source": [
    "from langchain_groq import ChatGroq\n",
    "\n",
    "llm = ChatGroq(\n",
    "    model=\"llama-3.1-70b-versatile\",\n",
    "    temperature=0,\n",
    "    groq_api_key='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'\n",
    ")\n",
    "response=llm.invoke(\"First Indian woman IT engineer\")\n",
    "print(response.content)\n"
   ]
  },
  {
   "cell_type": "code",
   "execution_count": null,
   "id": "efed0d42-d1f6-4e5d-8ecf-4dd9feb6055a",
   "metadata": {},
   "outputs": [],
   "source": []
  },
  {
   "cell_type": "code",
   "execution_count": null,
   "id": "3783a7d4-7b0b-4574-a520-2cd32506496b",
   "metadata": {},
   "outputs": [],
   "source": []
  },
  {
   "cell_type": "code",
   "execution_count": null,
   "id": "e7faa5fc-f5ca-4fde-8f9f-81343f9c8a16",
   "metadata": {},
   "outputs": [],
   "source": []
  }
 ],
 "metadata": {
  "kernelspec": {
   "display_name": "Python 3 (ipykernel)",
   "language": "python",
   "name": "python3"
  },
  "language_info": {
   "codemirror_mode": {
    "name": "ipython",
    "version": 3
   },
   "file_extension": ".py",
   "mimetype": "text/x-python",
   "name": "python",
   "nbconvert_exporter": "python",
   "pygments_lexer": "ipython3",
   "version": "3.12.3"
  }
 },
 "nbformat": 4,
 "nbformat_minor": 5
}
